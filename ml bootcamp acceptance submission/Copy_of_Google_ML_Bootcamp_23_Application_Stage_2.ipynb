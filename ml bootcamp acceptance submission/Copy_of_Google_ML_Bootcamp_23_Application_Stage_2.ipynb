{
  "cells": [
    {
      "cell_type": "markdown",
      "metadata": {
        "id": "ngsPl-b9o76l"
      },
      "source": [
        "Before you turn this problem in, make sure everything is saved and runs as expected. First, **restart the kernel** (in the menubar, select Kernel$\\rightarrow$Restart) and then **run all cells** (in the menubar, select Cell$\\rightarrow$Run All).\n",
        "\n",
        "Make sure you fill in any place that says `YOUR CODE HERE`, as well as your name below:"
      ]
    },
    {
      "cell_type": "code",
      "execution_count": null,
      "metadata": {
        "id": "3q1-B5r8o76o"
      },
      "outputs": [],
      "source": [
        "NAME = \"Mehmet ÖRS\""
      ]
    },
    {
      "cell_type": "markdown",
      "metadata": {
        "id": "0LIAqN8ao76q"
      },
      "source": [
        "Remove the lines with \"raise NotImplementedError()\" after you implemented the given part of the code.\n",
        "\n",
        "Do **not** remove the lines with \"# YOUR CODE HERE\"."
      ]
    },
    {
      "cell_type": "markdown",
      "metadata": {
        "id": "U5N1120Bo76q"
      },
      "source": [
        "---"
      ]
    },
    {
      "cell_type": "markdown",
      "metadata": {
        "deletable": false,
        "editable": false,
        "id": "Dsd6WJjbCatS",
        "nbgrader": {
          "cell_type": "markdown",
          "checksum": "1639aa8c11c8e3aad28785e7699bd699",
          "grade": false,
          "grade_id": "cell-8dc399e6b63937a0",
          "locked": true,
          "schema_version": 3,
          "solution": false,
          "task": false
        },
        "tags": []
      },
      "source": [
        "# Machine Learning Bootcamp - Coding Challenge\n",
        "\n",
        "Thank you for applying to Google Developers Machine Learning Bootcamp! We are thrilled to have you as a potential candidate for our program.\n",
        "\n",
        "The application process includes two sections designed to assess your skills and knowledge in machine learning. The first section will test your ability to write algorithms, while the second section will evaluate your understanding of fundamental concepts related to machine learning.\n",
        "\n",
        "Our bootcamp aims to provide participants with a comprehensive understanding of machine learning and equip them with the practical skills needed to succeed in this field. The program is highly selective, and we are seeking candidates who are passionate about machine learning and have a strong foundation in mathematics, statistics, and computer science.\n",
        "\n",
        "In the first section, you will be required to write code for a single algorithmic problem to assess your problem-solving and coding abilities. In the second section, we will assess your comprehension of fundamental mathematical concepts related to machine learning and your proficiency in translating them into code.\n",
        "\n",
        "We understand that the application process can be challenging, but we encourage you to showcase your strengths and potential as a machine learning practitioner. Our team is committed to selecting candidates who demonstrate intellectual curiosity, a strong work ethic, and a collaborative mindset.\n",
        "\n",
        "We look forward to reviewing your application."
      ]
    },
    {
      "cell_type": "markdown",
      "metadata": {
        "id": "rPweEKn7o76r"
      },
      "source": [
        "<img src=\"https://windows10spotlight.com/wp-content/uploads/2019/04/2ddf44eb7f24fea177d6ac024129442a.jpg\">\n",
        "\n",
        "Reference: Panoramic flower gardens of Shikisai-no-oka hill, Biei, Furano basin, Hokkaido, Japan"
      ]
    },
    {
      "cell_type": "markdown",
      "metadata": {
        "deletable": false,
        "editable": false,
        "id": "S5lJ3rqFCatW",
        "nbgrader": {
          "cell_type": "markdown",
          "checksum": "f1d8573bbfabd2cd5ca062ead71eafba",
          "grade": false,
          "grade_id": "cell-f85347c5928822d9",
          "locked": true,
          "schema_version": 3,
          "solution": false,
          "task": false
        },
        "tags": []
      },
      "source": [
        "### Problem Statement\n",
        "Given a garden with different types of flowers, try to find if a particular combination of flowers is present. Each flower in the garden is represented by a character (D = Daisies, F = Daffodils, I = Irises, L = Lilies, M = Marigolds, P = Peonies, R = Roses, S = Sunflowers, T = Tulips, V = Violets). For example, consider the following garden:\n",
        "\n",
        "<pre>\n",
        "FILMPRSTVD\n",
        "DVTSRPMLIF\n",
        "FFFFFFFFFF\n",
        "FFFFFFFFFF\n",
        "IIIIIIIIII\n",
        "</pre>\n",
        "\n",
        "The combination of flowers to search for is:<pre>\n",
        "TSRPML\n",
        "FFFFFF\n",
        "FFFFFF\n",
        "</pre>\n",
        "\n",
        "The combination begins at the second row and the third column of the grid and continues in the following two rows. The combination is said to be present in the garden. The return value should be 'YES' or 'NO', depending on whether the combination is found. In this case, return YES.\n",
        "\n",
        "<br>\n",
        "\n",
        "---\n",
        "\n",
        "**Function Description** <br>\n",
        "Complete the flower_search function in the editor below. It should return YES if the combination exists in the garden, or NO otherwise.\n",
        "\n",
        "flower_search has the following parameter(s):\n",
        "\n",
        "string G: the garden to search <br>\n",
        "string P: the combination to search for\n",
        "\n",
        "<br>\n",
        "\n",
        "**Input Format** <br>\n",
        "The test cases is represented as follows:\n",
        "There are two input strings. \n",
        "The first string is the lines that represent the garden.\n",
        "The second string is the lines that represent the combination.\n",
        "\n",
        "<br> **Returns** <br>\n",
        "string: either YES or NO\n",
        "\n",
        "<br>\n",
        "\n",
        "---\n",
        "\n",
        "**Sample Input 1**\n",
        "\n",
        "<pre>\n",
        "SITLMPPTRM\n",
        "RSLFFPTRFV\n",
        "TVTTIMIRML\n",
        "LTLDPTVLIM\n",
        "IIIVPDPTFL\n",
        "PRLLTMPLSM\n",
        "RMSLPLDIVL\n",
        "SDPLFDRRDF\n",
        "DTLMITIVPR\n",
        "MRDSVIMFLS\n",
        "\n",
        "VPDP\n",
        "LTMP\n",
        "LPLD\n",
        "</pre>\n",
        "\n",
        "**Sample Output 1**\n",
        "<pre>\n",
        "YES\n",
        "</pre>\n",
        "\n",
        "**Explanation 1**\n",
        "\n",
        "The combination is present in the larger garden as marked in bold below.\n",
        "<pre>\n",
        "SITLMPPTRM\n",
        "RSLFFPTRFV\n",
        "TVTTIMIRML\n",
        "LTLDPTVLIM\n",
        "III<b>VPDP</b>TFL\n",
        "PRL<b>LTMP</b>LSM\n",
        "RMS<b>LPLD</b>IVL\n",
        "SDPLFDRRDF\n",
        "DTLMITIVPR\n",
        "MRDSVIMFLS\n",
        "</pre>\n",
        "\n",
        "**Sample Input 2**\n",
        "<pre>\n",
        "MDDMPLPVIFIRPRD\n",
        "FFMIFLFLLDVTRVI\n",
        "MSMLTRDTITSVRMT\n",
        "PIILPRVPFFTVFRV\n",
        "TTSFDVMPDMTSMVR\n",
        "IPITDIRLLLTTSTI\n",
        "PDISSFMTMVRRSMT\n",
        "DSPVSPIDSRVLSTD\n",
        "PFFSVVSTVPRITDR\n",
        "MDMDDSMPMISIPDM\n",
        "PMVDMLTDVVFRDTD\n",
        "VRIMFDTDVPLMTFF\n",
        "MMPTVLPILSLLMSP\n",
        "SRTSDPLDLIFMFSM\n",
        "RPDRIVISDTTSFRD\n",
        "\n",
        "VV\n",
        "VV\n",
        "</pre>\n",
        "\n",
        "**Sample Output 2**\n",
        "<pre>\n",
        "NO\n",
        "</pre>\n",
        "\n",
        "**Explanation 2**\n",
        "\n",
        "The combination is not found in the larger garden."
      ]
    },
    {
      "cell_type": "markdown",
      "metadata": {
        "deletable": false,
        "editable": false,
        "id": "2VmptNnECatX",
        "nbgrader": {
          "cell_type": "markdown",
          "checksum": "7a29650adf083a838d0e01a731e26754",
          "grade": false,
          "grade_id": "cell-4aab134c992e6ed4",
          "locked": true,
          "schema_version": 3,
          "solution": false,
          "task": false
        },
        "tags": []
      },
      "source": [
        "### Solution"
      ]
    },
    {
      "cell_type": "code",
      "execution_count": 76,
      "metadata": {
        "deletable": false,
        "id": "gnoIs4NJCatX",
        "nbgrader": {
          "cell_type": "code",
          "checksum": "50a99ccedfa3996a631c6934c5d1324f",
          "grade": false,
          "grade_id": "cell-6500f8208bc77e4b",
          "locked": false,
          "schema_version": 3,
          "solution": true,
          "task": false
        },
        "tags": []
      },
      "outputs": [],
      "source": [
        "# Do not import any additional libraries\n",
        "import math\n",
        "import os\n",
        "import random\n",
        "import re\n",
        "import sys\n",
        "\n",
        "# Complete the 'flower_search' function below.\n",
        "#\n",
        "# The function is expected to return a STRING.\n",
        "# The function accepts following parameters:\n",
        "#  1. STRING G\n",
        "#  2. STRING P\n",
        "\n",
        "def flower_search(G, P):\n",
        "     # YOUR CODE HERE\n",
        "  \n",
        "  first_chars = {s[0] for s in P.split(\"\\n\")}\n",
        "  flower_sequences = P.split(\"\\n\")\n",
        "\n",
        "  G = G.replace(\"\\n\", '')\n",
        "  \n",
        "  for i in range(len(G)):\n",
        "    if G[i] in first_chars:\n",
        "      #search which sequence starts with that flower\n",
        "      for seq in flower_sequences:\n",
        "        #if the sequence being checked is longer than the rest of the garden, return no\n",
        "        if len(seq) > len(G) - i:\n",
        "          return \"NO\"\n",
        "        if seq[0] == G[i]:\n",
        "          j = i\n",
        "          found = True\n",
        "          for flower in seq:\n",
        "            if G[j] != flower:\n",
        "              found = False\n",
        "              break\n",
        "            j += 1\n",
        "\n",
        "          #pop the flower if it is found\n",
        "          if found:\n",
        "            flower_sequences.remove(seq)\n",
        "\n",
        "          #continue fro the end of the found flower\n",
        "  \n",
        "\n",
        "  if len(flower_sequences) == 0:\n",
        "    return \"YES\"\n",
        "\n",
        "  return \"NO\"\n",
        "   "
      ]
    },
    {
      "cell_type": "code",
      "execution_count": 77,
      "metadata": {
        "deletable": false,
        "editable": false,
        "nbgrader": {
          "cell_type": "code",
          "checksum": "22f4a5b140dc8e579dfcf58e4fab2db2",
          "grade": true,
          "grade_id": "cell-609405b2f549b5b6",
          "locked": true,
          "points": 50,
          "schema_version": 3,
          "solution": false,
          "task": false
        },
        "tags": [],
        "id": "b7Z4M65bo76u"
      },
      "outputs": [],
      "source": [
        "# DO NOT CHANGE THIS CELL\n",
        "\n",
        "test_garden = \"SITLMPPTRM\\nRSLFFPTRFV\\nTVTTIMIRML\\nLTLDPTVLIM\\nIIIVPDPTFL\\nPRLLTMPLSM\\nRMSLPLDIVL\\nSDPLFDRRDF\\nDTLMITIVPR\\nMRDSVIMFLS\"\n",
        "test_flower_1 = \"VPDP\\nLTMP\\nLPLD\"\n",
        "test_flower_2 = \"VV\\nVV\"\n",
        "\n",
        "assert flower_search(test_garden, test_flower_1) == \"YES\"\n",
        "assert flower_search(test_garden, test_flower_2) == \"NO\""
      ]
    },
    {
      "cell_type": "markdown",
      "metadata": {
        "deletable": false,
        "editable": false,
        "id": "cf8nZpvyCatY",
        "nbgrader": {
          "cell_type": "markdown",
          "checksum": "2644f204c451eda93c8b0b808b0d087c",
          "grade": false,
          "grade_id": "cell-cd85b34d75a167a9",
          "locked": true,
          "schema_version": 3,
          "solution": false,
          "task": false
        },
        "tags": []
      },
      "source": [
        "## Part 2: Fundamental ML Concept Understanding\n",
        "Reference: https://machinelearningmastery.com/implement-simple-linear-regression-scratch-python/\n",
        "\n",
        "<img src=\"https://imgs.xkcd.com/comics/linear_regression.png\">\n",
        "\n",
        "Reference: https://xkcd.com/1725/"
      ]
    },
    {
      "cell_type": "markdown",
      "metadata": {
        "deletable": false,
        "editable": false,
        "id": "HqxlOEgGCatZ",
        "nbgrader": {
          "cell_type": "markdown",
          "checksum": "4009fef3252b4a986dbc9919084b2667",
          "grade": false,
          "grade_id": "cell-f8976a7f67cea212",
          "locked": true,
          "schema_version": 3,
          "solution": false,
          "task": false
        },
        "tags": []
      },
      "source": [
        "### Problem Statement\n",
        "\n",
        "You have been tasked with implementing a basic linear regression model using only Python core libraries. Your task is to write a function that takes in two lists, X and y, where X represents the features and y represents the target variable. Your function should return the slope (m) and intercept (b) that minimize the sum of squared errors (SSE) between the predicted and actual target values.\n",
        "\n",
        "To implement the model, you can use the following steps:\n",
        "\n",
        "- Calculate the mean of X and y using a for loop\n",
        "- Calculate the variance of X using a for loop\n",
        "- Calculate the covariance between X and y using a for loop\n",
        "- Calculate the slope m using the formula: m = cov(X, y) / var(X)\n",
        "- Calculate the intercept b using the formula: b = mean(y) - m * mean(X)\n",
        "\n",
        "To test the function, you can create sample data as follows:\n",
        "\n",
        "<pre>\n",
        "X = [1, 2, 3, 4, 5]\n",
        "y = [2.1, 3.9, 6.2, 8.1, 9.8]\n",
        "\n",
        "m, b = linear_regression(X, y)\n",
        "\n",
        "print(f\"Slope (m): {m:.2f}\")\n",
        "print(f\"Intercept (b): {b:.2f}\")\n",
        "</pre>\n",
        "\n",
        "The output should be:\n",
        "\n",
        "<pre>\n",
        "Slope (m): 1.98\n",
        "Intercept (b): 0.12\n",
        "</pre>\n",
        "\n",
        "These values represent the slope and intercept of the line that best fits the sample data, minimizing the sum of squared errors."
      ]
    },
    {
      "cell_type": "markdown",
      "metadata": {
        "deletable": false,
        "editable": false,
        "id": "MUde_x9sCatZ",
        "nbgrader": {
          "cell_type": "markdown",
          "checksum": "60edd1d4b62ab5ced4403be768c41b77",
          "grade": false,
          "grade_id": "cell-b91c7655205294b2",
          "locked": true,
          "schema_version": 3,
          "solution": false,
          "task": false
        },
        "tags": []
      },
      "source": [
        "### Solution"
      ]
    },
    {
      "cell_type": "code",
      "execution_count": 80,
      "metadata": {
        "deletable": false,
        "id": "Z4BImbukCata",
        "nbgrader": {
          "cell_type": "code",
          "checksum": "96629979147e718dd2c8b961fe59a149",
          "grade": false,
          "grade_id": "cell-be4823434bcf4d18",
          "locked": false,
          "schema_version": 3,
          "solution": true,
          "task": false
        },
        "tags": []
      },
      "outputs": [],
      "source": [
        "def mean(values):\n",
        "    \"\"\"\n",
        "    Calculate the mean of a list of values.\n",
        "\n",
        "    Parameters:\n",
        "    values (list): A list of numeric values.\n",
        "\n",
        "    Returns:\n",
        "    float: The mean value.\n",
        "    \"\"\"\n",
        "    # YOUR CODE HERE\n",
        "\n",
        "    sum = 0\n",
        "    for value in values:\n",
        "      sum += value\n",
        "    return sum/len(values) \n",
        "    \n",
        "  "
      ]
    },
    {
      "cell_type": "code",
      "execution_count": null,
      "metadata": {
        "deletable": false,
        "editable": false,
        "id": "2KKprLYKCata",
        "nbgrader": {
          "cell_type": "code",
          "checksum": "4bf00fe98eee2eb9760e25df62173c89",
          "grade": true,
          "grade_id": "cell-ab48ac1f5f8a01f2",
          "locked": true,
          "points": 10,
          "schema_version": 3,
          "solution": false,
          "task": false
        },
        "tags": []
      },
      "outputs": [],
      "source": [
        "# DO NOT CHANGE THIS CELL\n",
        "\n",
        "sample_X = [1, 2, 3, 4, 5]\n",
        "sample_y = [2.1, 3.9, 6.2, 8.1, 9.8]\n",
        "\n",
        "assert round(mean(sample_X), 2) == 3.0\n",
        "assert round(mean(sample_y), 2) == 6.02\n"
      ]
    },
    {
      "cell_type": "code",
      "execution_count": 81,
      "metadata": {
        "deletable": false,
        "id": "2gWn2InHCata",
        "nbgrader": {
          "cell_type": "code",
          "checksum": "ccbaa49c8b76ee5ad3b729de87737667",
          "grade": false,
          "grade_id": "cell-08a4f7604dac88d8",
          "locked": false,
          "schema_version": 3,
          "solution": true,
          "task": false
        },
        "tags": []
      },
      "outputs": [],
      "source": [
        "def variance(values):\n",
        "    \"\"\"\n",
        "    Calculate the variance of a list of values.\n",
        "\n",
        "    Parameters:\n",
        "    values (list): A list of numeric values.\n",
        "\n",
        "    Returns:\n",
        "    float: The variance value.\n",
        "    \"\"\"\n",
        "    # YOUR CODE HERE\n",
        "   \n",
        "    \n",
        "    mean_val = mean(values)\n",
        "    sum = 0\n",
        "    for xi in values:\n",
        "      sum += (xi - mean_val)**2 \n",
        "\n",
        "    return sum / (len(values))\n",
        "    \n",
        "    raise NotImplementedError()\n"
      ]
    },
    {
      "cell_type": "code",
      "execution_count": 82,
      "metadata": {
        "deletable": false,
        "editable": false,
        "id": "rS2rFEnHCatb",
        "nbgrader": {
          "cell_type": "code",
          "checksum": "6b0db6351108e8052cf151cef3373dd1",
          "grade": true,
          "grade_id": "cell-1c89306425776515",
          "locked": true,
          "points": 10,
          "schema_version": 3,
          "solution": false,
          "task": false
        },
        "tags": []
      },
      "outputs": [],
      "source": [
        "# DO NOT CHANGE THIS CELL\n",
        "\n",
        "sample_X = [1, 2, 3, 4, 5]\n",
        "sample_y = [2.1, 3.9, 6.2, 8.1, 9.8]\n",
        "\n",
        "assert round(variance(sample_X), 2) == 2\n",
        "assert round(variance(sample_y), 2) == 7.7\n"
      ]
    },
    {
      "cell_type": "code",
      "execution_count": 84,
      "metadata": {
        "deletable": false,
        "id": "we59na5DCatb",
        "nbgrader": {
          "cell_type": "code",
          "checksum": "5cc6fc85bbd4901a49105fe0de9c241c",
          "grade": false,
          "grade_id": "cell-7a5d8312d93e6392",
          "locked": false,
          "schema_version": 3,
          "solution": true,
          "task": false
        },
        "tags": []
      },
      "outputs": [],
      "source": [
        "def covariance(x_values, y_values):\n",
        "    \"\"\"\n",
        "    Calculate the covariance between two lists of values.\n",
        "\n",
        "    Parameters:\n",
        "    x_values (list): A list of numeric values.\n",
        "    y_values (list): A list of numeric values.\n",
        "\n",
        "    Returns:\n",
        "    float: The covariance value.\n",
        "    \"\"\"\n",
        "    # YOUR CODE HERE\n",
        "\n",
        "    xMean = mean(x_values)\n",
        "    yMean = mean(y_values)\n",
        "\n",
        "    sum = 0\n",
        "    for i in range(len(x_values)):\n",
        "      sum += (x_values[i] - xMean) * (y_values[i] - yMean)\n",
        "\n",
        "\n",
        "    return sum / len(x_values)\n"
      ]
    },
    {
      "cell_type": "code",
      "execution_count": 85,
      "metadata": {
        "deletable": false,
        "editable": false,
        "id": "CAc8V0yhCatb",
        "nbgrader": {
          "cell_type": "code",
          "checksum": "ff4ae26aa978a2cf66076aa729ec5a71",
          "grade": true,
          "grade_id": "cell-1fb53a2266efc731",
          "locked": true,
          "points": 10,
          "schema_version": 3,
          "solution": false,
          "task": false
        },
        "tags": []
      },
      "outputs": [],
      "source": [
        "# DO NOT CHANGE THIS CELL\n",
        "\n",
        "sample_X = [1, 2, 3, 4, 5]\n",
        "sample_y = [2.1, 3.9, 6.2, 8.1, 9.8]\n",
        "\n",
        "assert round(covariance(sample_X, sample_y), 2) == 3.92\n"
      ]
    },
    {
      "cell_type": "code",
      "execution_count": 86,
      "metadata": {
        "deletable": false,
        "id": "novCQ3UXCatb",
        "nbgrader": {
          "cell_type": "code",
          "checksum": "4f748cfc6ddedf8fab976c4c2ea9d8f9",
          "grade": false,
          "grade_id": "cell-603d1f44da344323",
          "locked": false,
          "schema_version": 3,
          "solution": true,
          "task": false
        },
        "tags": []
      },
      "outputs": [],
      "source": [
        "def linear_regression(X, y):\n",
        "    \"\"\"\n",
        "    Implement a basic linear regression model using Python core libraries.\n",
        "\n",
        "    Parameters:\n",
        "    X (list): A list of features.\n",
        "    y (list): A list of target values.\n",
        "\n",
        "    Returns:\n",
        "    float: The slope (m) that minimizes the sum of squared errors.\n",
        "    float: The intercept (b) that minimizes the sum of squared errors.\n",
        "    \"\"\"\n",
        "    # YOUR CODE HERE\n",
        "    \n",
        "    m = covariance(X, y) / variance(X)\n",
        "    b = mean(y) - m * mean(X)\n",
        "\n",
        "    \n",
        "    return m, b\n"
      ]
    },
    {
      "cell_type": "code",
      "execution_count": 87,
      "metadata": {
        "deletable": false,
        "editable": false,
        "id": "GFthJYxUCatc",
        "nbgrader": {
          "cell_type": "code",
          "checksum": "76986660add04ad0ab809b02a849407b",
          "grade": true,
          "grade_id": "cell-9ca37d3365e1d0da",
          "locked": true,
          "points": 20,
          "schema_version": 3,
          "solution": false,
          "task": false
        },
        "tags": []
      },
      "outputs": [],
      "source": [
        "# DO NOT CHANGE THIS CELL\n",
        "\n",
        "sample_X = [1, 2, 3, 4, 5]\n",
        "sample_y = [2.1, 3.9, 6.2, 8.1, 9.8]\n",
        "\n",
        "assert round(linear_regression(sample_X, sample_y)[0], 2) == 1.96\n",
        "assert round(linear_regression(sample_X, sample_y)[1], 2) == 0.14\n"
      ]
    }
  ],
  "metadata": {
    "colab": {
      "provenance": []
    },
    "kernelspec": {
      "display_name": "Python 3 (ipykernel)",
      "language": "python",
      "name": "python3"
    },
    "language_info": {
      "codemirror_mode": {
        "name": "ipython",
        "version": 3
      },
      "file_extension": ".py",
      "mimetype": "text/x-python",
      "name": "python",
      "nbconvert_exporter": "python",
      "pygments_lexer": "ipython3",
      "version": "3.9.16"
    }
  },
  "nbformat": 4,
  "nbformat_minor": 0
}